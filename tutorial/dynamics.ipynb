version https://git-lfs.github.com/spec/v1
oid sha256:10c43cf3ecb8fd4f191a9de845df251285733792c198667f01c7821279943d7f
size 690213
